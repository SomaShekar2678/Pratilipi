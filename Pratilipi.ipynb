{
  "nbformat": 4,
  "nbformat_minor": 0,
  "metadata": {
    "colab": {
      "provenance": []
    },
    "kernelspec": {
      "name": "python3",
      "display_name": "Python 3"
    },
    "language_info": {
      "name": "python"
    }
  },
  "cells": [
    {
      "cell_type": "code",
      "source": [
        "!pip install lightfm"
      ],
      "metadata": {
        "colab": {
          "base_uri": "https://localhost:8080/"
        },
        "id": "QZs4PaAcMuzv",
        "outputId": "2036ea45-348f-463a-e807-b524762afdaa"
      },
      "execution_count": 42,
      "outputs": [
        {
          "output_type": "stream",
          "name": "stdout",
          "text": [
            "Requirement already satisfied: lightfm in /usr/local/lib/python3.11/dist-packages (1.17)\n",
            "Requirement already satisfied: numpy in /usr/local/lib/python3.11/dist-packages (from lightfm) (1.26.4)\n",
            "Requirement already satisfied: scipy>=0.17.0 in /usr/local/lib/python3.11/dist-packages (from lightfm) (1.13.1)\n",
            "Requirement already satisfied: requests in /usr/local/lib/python3.11/dist-packages (from lightfm) (2.32.3)\n",
            "Requirement already satisfied: scikit-learn in /usr/local/lib/python3.11/dist-packages (from lightfm) (1.6.1)\n",
            "Requirement already satisfied: charset-normalizer<4,>=2 in /usr/local/lib/python3.11/dist-packages (from requests->lightfm) (3.4.1)\n",
            "Requirement already satisfied: idna<4,>=2.5 in /usr/local/lib/python3.11/dist-packages (from requests->lightfm) (3.10)\n",
            "Requirement already satisfied: urllib3<3,>=1.21.1 in /usr/local/lib/python3.11/dist-packages (from requests->lightfm) (2.3.0)\n",
            "Requirement already satisfied: certifi>=2017.4.17 in /usr/local/lib/python3.11/dist-packages (from requests->lightfm) (2025.1.31)\n",
            "Requirement already satisfied: joblib>=1.2.0 in /usr/local/lib/python3.11/dist-packages (from scikit-learn->lightfm) (1.4.2)\n",
            "Requirement already satisfied: threadpoolctl>=3.1.0 in /usr/local/lib/python3.11/dist-packages (from scikit-learn->lightfm) (3.5.0)\n"
          ]
        }
      ]
    },
    {
      "cell_type": "code",
      "source": [
        "import pandas as pd\n",
        "import numpy as np\n",
        "from lightfm import LightFM\n",
        "from lightfm.data import Dataset\n",
        "from datetime import datetime\n",
        "import pprint"
      ],
      "metadata": {
        "id": "LqldcFnJm763"
      },
      "execution_count": 43,
      "outputs": []
    },
    {
      "cell_type": "code",
      "source": [
        "from google.colab import drive\n",
        "drive.mount('/content/drive')\n"
      ],
      "metadata": {
        "colab": {
          "base_uri": "https://localhost:8080/"
        },
        "id": "HcAp-4oEN4QA",
        "outputId": "8a071f94-810e-4c8b-e0d9-4a17e2724b27"
      },
      "execution_count": 44,
      "outputs": [
        {
          "output_type": "stream",
          "name": "stdout",
          "text": [
            "Drive already mounted at /content/drive; to attempt to forcibly remount, call drive.mount(\"/content/drive\", force_remount=True).\n"
          ]
        }
      ]
    },
    {
      "cell_type": "code",
      "source": [
        "user_interactions = pd.read_csv('/content/drive/My Drive/user_interaction.csv')\n",
        "meta_data = pd.read_csv('/content/drive/My Drive/metadata.csv')"
      ],
      "metadata": {
        "id": "8Vk0izU_7lJY"
      },
      "execution_count": 45,
      "outputs": []
    },
    {
      "cell_type": "code",
      "source": [
        "user_interactions['updated_at'] = pd.to_datetime(user_interactions['updated_at'])\n",
        "user_interactions = user_interactions.sort_values(by='updated_at')"
      ],
      "metadata": {
        "id": "rZ6uEeulP1Ad"
      },
      "execution_count": 46,
      "outputs": []
    },
    {
      "cell_type": "code",
      "source": [
        "\n",
        "null_rows_in_user_interactions = meta_data[meta_data.isnull().any(axis=1)]\n",
        "print(\"Null rows in user interactions\")\n",
        "null_rows_in_user_interactions\n"
      ],
      "metadata": {
        "colab": {
          "base_uri": "https://localhost:8080/",
          "height": 287
        },
        "id": "Xc4_6uKCTxKF",
        "outputId": "f1a307db-67fa-4891-ec03-5e49ca42dd0f"
      },
      "execution_count": 47,
      "outputs": [
        {
          "output_type": "stream",
          "name": "stdout",
          "text": [
            "Null rows in user interactions\n"
          ]
        },
        {
          "output_type": "execute_result",
          "data": {
            "text/plain": [
              "               author_id      pratilipi_id             category_name  \\\n",
              "239986 -2270332352057132  1377786215619021                 mythology   \n",
              "278038 -4110497246016881  -524224996141368                   romance   \n",
              "297055 -2270332347709578  1377786216959710                   romance   \n",
              "578192 -2270332351858801  1377786215762463              shortstories   \n",
              "760065 -2270332352057132  1377786215619021  experiences-and-memories   \n",
              "788161 -2270332351858801  1377786215762463                    social   \n",
              "869075 -2270332352057132  1377786215619021                     women   \n",
              "\n",
              "        reading_time           updated_at published_at  \n",
              "239986           332  2020-01-24 05:35:03          NaN  \n",
              "278038            73  2019-09-05 10:26:20          NaN  \n",
              "297055            89  2019-08-06 10:01:31          NaN  \n",
              "578192            55  2019-09-09 10:10:57          NaN  \n",
              "760065           332  2020-01-24 05:35:03          NaN  \n",
              "788161            55  2019-09-09 10:10:57          NaN  \n",
              "869075           332  2020-01-24 05:35:03          NaN  "
            ],
            "text/html": [
              "\n",
              "  <div id=\"df-2363a92f-b78e-4ed9-a205-56e39b7adafe\" class=\"colab-df-container\">\n",
              "    <div>\n",
              "<style scoped>\n",
              "    .dataframe tbody tr th:only-of-type {\n",
              "        vertical-align: middle;\n",
              "    }\n",
              "\n",
              "    .dataframe tbody tr th {\n",
              "        vertical-align: top;\n",
              "    }\n",
              "\n",
              "    .dataframe thead th {\n",
              "        text-align: right;\n",
              "    }\n",
              "</style>\n",
              "<table border=\"1\" class=\"dataframe\">\n",
              "  <thead>\n",
              "    <tr style=\"text-align: right;\">\n",
              "      <th></th>\n",
              "      <th>author_id</th>\n",
              "      <th>pratilipi_id</th>\n",
              "      <th>category_name</th>\n",
              "      <th>reading_time</th>\n",
              "      <th>updated_at</th>\n",
              "      <th>published_at</th>\n",
              "    </tr>\n",
              "  </thead>\n",
              "  <tbody>\n",
              "    <tr>\n",
              "      <th>239986</th>\n",
              "      <td>-2270332352057132</td>\n",
              "      <td>1377786215619021</td>\n",
              "      <td>mythology</td>\n",
              "      <td>332</td>\n",
              "      <td>2020-01-24 05:35:03</td>\n",
              "      <td>NaN</td>\n",
              "    </tr>\n",
              "    <tr>\n",
              "      <th>278038</th>\n",
              "      <td>-4110497246016881</td>\n",
              "      <td>-524224996141368</td>\n",
              "      <td>romance</td>\n",
              "      <td>73</td>\n",
              "      <td>2019-09-05 10:26:20</td>\n",
              "      <td>NaN</td>\n",
              "    </tr>\n",
              "    <tr>\n",
              "      <th>297055</th>\n",
              "      <td>-2270332347709578</td>\n",
              "      <td>1377786216959710</td>\n",
              "      <td>romance</td>\n",
              "      <td>89</td>\n",
              "      <td>2019-08-06 10:01:31</td>\n",
              "      <td>NaN</td>\n",
              "    </tr>\n",
              "    <tr>\n",
              "      <th>578192</th>\n",
              "      <td>-2270332351858801</td>\n",
              "      <td>1377786215762463</td>\n",
              "      <td>shortstories</td>\n",
              "      <td>55</td>\n",
              "      <td>2019-09-09 10:10:57</td>\n",
              "      <td>NaN</td>\n",
              "    </tr>\n",
              "    <tr>\n",
              "      <th>760065</th>\n",
              "      <td>-2270332352057132</td>\n",
              "      <td>1377786215619021</td>\n",
              "      <td>experiences-and-memories</td>\n",
              "      <td>332</td>\n",
              "      <td>2020-01-24 05:35:03</td>\n",
              "      <td>NaN</td>\n",
              "    </tr>\n",
              "    <tr>\n",
              "      <th>788161</th>\n",
              "      <td>-2270332351858801</td>\n",
              "      <td>1377786215762463</td>\n",
              "      <td>social</td>\n",
              "      <td>55</td>\n",
              "      <td>2019-09-09 10:10:57</td>\n",
              "      <td>NaN</td>\n",
              "    </tr>\n",
              "    <tr>\n",
              "      <th>869075</th>\n",
              "      <td>-2270332352057132</td>\n",
              "      <td>1377786215619021</td>\n",
              "      <td>women</td>\n",
              "      <td>332</td>\n",
              "      <td>2020-01-24 05:35:03</td>\n",
              "      <td>NaN</td>\n",
              "    </tr>\n",
              "  </tbody>\n",
              "</table>\n",
              "</div>\n",
              "    <div class=\"colab-df-buttons\">\n",
              "\n",
              "  <div class=\"colab-df-container\">\n",
              "    <button class=\"colab-df-convert\" onclick=\"convertToInteractive('df-2363a92f-b78e-4ed9-a205-56e39b7adafe')\"\n",
              "            title=\"Convert this dataframe to an interactive table.\"\n",
              "            style=\"display:none;\">\n",
              "\n",
              "  <svg xmlns=\"http://www.w3.org/2000/svg\" height=\"24px\" viewBox=\"0 -960 960 960\">\n",
              "    <path d=\"M120-120v-720h720v720H120Zm60-500h600v-160H180v160Zm220 220h160v-160H400v160Zm0 220h160v-160H400v160ZM180-400h160v-160H180v160Zm440 0h160v-160H620v160ZM180-180h160v-160H180v160Zm440 0h160v-160H620v160Z\"/>\n",
              "  </svg>\n",
              "    </button>\n",
              "\n",
              "  <style>\n",
              "    .colab-df-container {\n",
              "      display:flex;\n",
              "      gap: 12px;\n",
              "    }\n",
              "\n",
              "    .colab-df-convert {\n",
              "      background-color: #E8F0FE;\n",
              "      border: none;\n",
              "      border-radius: 50%;\n",
              "      cursor: pointer;\n",
              "      display: none;\n",
              "      fill: #1967D2;\n",
              "      height: 32px;\n",
              "      padding: 0 0 0 0;\n",
              "      width: 32px;\n",
              "    }\n",
              "\n",
              "    .colab-df-convert:hover {\n",
              "      background-color: #E2EBFA;\n",
              "      box-shadow: 0px 1px 2px rgba(60, 64, 67, 0.3), 0px 1px 3px 1px rgba(60, 64, 67, 0.15);\n",
              "      fill: #174EA6;\n",
              "    }\n",
              "\n",
              "    .colab-df-buttons div {\n",
              "      margin-bottom: 4px;\n",
              "    }\n",
              "\n",
              "    [theme=dark] .colab-df-convert {\n",
              "      background-color: #3B4455;\n",
              "      fill: #D2E3FC;\n",
              "    }\n",
              "\n",
              "    [theme=dark] .colab-df-convert:hover {\n",
              "      background-color: #434B5C;\n",
              "      box-shadow: 0px 1px 3px 1px rgba(0, 0, 0, 0.15);\n",
              "      filter: drop-shadow(0px 1px 2px rgba(0, 0, 0, 0.3));\n",
              "      fill: #FFFFFF;\n",
              "    }\n",
              "  </style>\n",
              "\n",
              "    <script>\n",
              "      const buttonEl =\n",
              "        document.querySelector('#df-2363a92f-b78e-4ed9-a205-56e39b7adafe button.colab-df-convert');\n",
              "      buttonEl.style.display =\n",
              "        google.colab.kernel.accessAllowed ? 'block' : 'none';\n",
              "\n",
              "      async function convertToInteractive(key) {\n",
              "        const element = document.querySelector('#df-2363a92f-b78e-4ed9-a205-56e39b7adafe');\n",
              "        const dataTable =\n",
              "          await google.colab.kernel.invokeFunction('convertToInteractive',\n",
              "                                                    [key], {});\n",
              "        if (!dataTable) return;\n",
              "\n",
              "        const docLinkHtml = 'Like what you see? Visit the ' +\n",
              "          '<a target=\"_blank\" href=https://colab.research.google.com/notebooks/data_table.ipynb>data table notebook</a>'\n",
              "          + ' to learn more about interactive tables.';\n",
              "        element.innerHTML = '';\n",
              "        dataTable['output_type'] = 'display_data';\n",
              "        await google.colab.output.renderOutput(dataTable, element);\n",
              "        const docLink = document.createElement('div');\n",
              "        docLink.innerHTML = docLinkHtml;\n",
              "        element.appendChild(docLink);\n",
              "      }\n",
              "    </script>\n",
              "  </div>\n",
              "\n",
              "\n",
              "<div id=\"df-e0e7401c-fe1a-4b2c-b82e-5fe354f1ff27\">\n",
              "  <button class=\"colab-df-quickchart\" onclick=\"quickchart('df-e0e7401c-fe1a-4b2c-b82e-5fe354f1ff27')\"\n",
              "            title=\"Suggest charts\"\n",
              "            style=\"display:none;\">\n",
              "\n",
              "<svg xmlns=\"http://www.w3.org/2000/svg\" height=\"24px\"viewBox=\"0 0 24 24\"\n",
              "     width=\"24px\">\n",
              "    <g>\n",
              "        <path d=\"M19 3H5c-1.1 0-2 .9-2 2v14c0 1.1.9 2 2 2h14c1.1 0 2-.9 2-2V5c0-1.1-.9-2-2-2zM9 17H7v-7h2v7zm4 0h-2V7h2v10zm4 0h-2v-4h2v4z\"/>\n",
              "    </g>\n",
              "</svg>\n",
              "  </button>\n",
              "\n",
              "<style>\n",
              "  .colab-df-quickchart {\n",
              "      --bg-color: #E8F0FE;\n",
              "      --fill-color: #1967D2;\n",
              "      --hover-bg-color: #E2EBFA;\n",
              "      --hover-fill-color: #174EA6;\n",
              "      --disabled-fill-color: #AAA;\n",
              "      --disabled-bg-color: #DDD;\n",
              "  }\n",
              "\n",
              "  [theme=dark] .colab-df-quickchart {\n",
              "      --bg-color: #3B4455;\n",
              "      --fill-color: #D2E3FC;\n",
              "      --hover-bg-color: #434B5C;\n",
              "      --hover-fill-color: #FFFFFF;\n",
              "      --disabled-bg-color: #3B4455;\n",
              "      --disabled-fill-color: #666;\n",
              "  }\n",
              "\n",
              "  .colab-df-quickchart {\n",
              "    background-color: var(--bg-color);\n",
              "    border: none;\n",
              "    border-radius: 50%;\n",
              "    cursor: pointer;\n",
              "    display: none;\n",
              "    fill: var(--fill-color);\n",
              "    height: 32px;\n",
              "    padding: 0;\n",
              "    width: 32px;\n",
              "  }\n",
              "\n",
              "  .colab-df-quickchart:hover {\n",
              "    background-color: var(--hover-bg-color);\n",
              "    box-shadow: 0 1px 2px rgba(60, 64, 67, 0.3), 0 1px 3px 1px rgba(60, 64, 67, 0.15);\n",
              "    fill: var(--button-hover-fill-color);\n",
              "  }\n",
              "\n",
              "  .colab-df-quickchart-complete:disabled,\n",
              "  .colab-df-quickchart-complete:disabled:hover {\n",
              "    background-color: var(--disabled-bg-color);\n",
              "    fill: var(--disabled-fill-color);\n",
              "    box-shadow: none;\n",
              "  }\n",
              "\n",
              "  .colab-df-spinner {\n",
              "    border: 2px solid var(--fill-color);\n",
              "    border-color: transparent;\n",
              "    border-bottom-color: var(--fill-color);\n",
              "    animation:\n",
              "      spin 1s steps(1) infinite;\n",
              "  }\n",
              "\n",
              "  @keyframes spin {\n",
              "    0% {\n",
              "      border-color: transparent;\n",
              "      border-bottom-color: var(--fill-color);\n",
              "      border-left-color: var(--fill-color);\n",
              "    }\n",
              "    20% {\n",
              "      border-color: transparent;\n",
              "      border-left-color: var(--fill-color);\n",
              "      border-top-color: var(--fill-color);\n",
              "    }\n",
              "    30% {\n",
              "      border-color: transparent;\n",
              "      border-left-color: var(--fill-color);\n",
              "      border-top-color: var(--fill-color);\n",
              "      border-right-color: var(--fill-color);\n",
              "    }\n",
              "    40% {\n",
              "      border-color: transparent;\n",
              "      border-right-color: var(--fill-color);\n",
              "      border-top-color: var(--fill-color);\n",
              "    }\n",
              "    60% {\n",
              "      border-color: transparent;\n",
              "      border-right-color: var(--fill-color);\n",
              "    }\n",
              "    80% {\n",
              "      border-color: transparent;\n",
              "      border-right-color: var(--fill-color);\n",
              "      border-bottom-color: var(--fill-color);\n",
              "    }\n",
              "    90% {\n",
              "      border-color: transparent;\n",
              "      border-bottom-color: var(--fill-color);\n",
              "    }\n",
              "  }\n",
              "</style>\n",
              "\n",
              "  <script>\n",
              "    async function quickchart(key) {\n",
              "      const quickchartButtonEl =\n",
              "        document.querySelector('#' + key + ' button');\n",
              "      quickchartButtonEl.disabled = true;  // To prevent multiple clicks.\n",
              "      quickchartButtonEl.classList.add('colab-df-spinner');\n",
              "      try {\n",
              "        const charts = await google.colab.kernel.invokeFunction(\n",
              "            'suggestCharts', [key], {});\n",
              "      } catch (error) {\n",
              "        console.error('Error during call to suggestCharts:', error);\n",
              "      }\n",
              "      quickchartButtonEl.classList.remove('colab-df-spinner');\n",
              "      quickchartButtonEl.classList.add('colab-df-quickchart-complete');\n",
              "    }\n",
              "    (() => {\n",
              "      let quickchartButtonEl =\n",
              "        document.querySelector('#df-e0e7401c-fe1a-4b2c-b82e-5fe354f1ff27 button');\n",
              "      quickchartButtonEl.style.display =\n",
              "        google.colab.kernel.accessAllowed ? 'block' : 'none';\n",
              "    })();\n",
              "  </script>\n",
              "</div>\n",
              "\n",
              "  <div id=\"id_d6e060a2-9928-4ca8-8514-90841bdc28d2\">\n",
              "    <style>\n",
              "      .colab-df-generate {\n",
              "        background-color: #E8F0FE;\n",
              "        border: none;\n",
              "        border-radius: 50%;\n",
              "        cursor: pointer;\n",
              "        display: none;\n",
              "        fill: #1967D2;\n",
              "        height: 32px;\n",
              "        padding: 0 0 0 0;\n",
              "        width: 32px;\n",
              "      }\n",
              "\n",
              "      .colab-df-generate:hover {\n",
              "        background-color: #E2EBFA;\n",
              "        box-shadow: 0px 1px 2px rgba(60, 64, 67, 0.3), 0px 1px 3px 1px rgba(60, 64, 67, 0.15);\n",
              "        fill: #174EA6;\n",
              "      }\n",
              "\n",
              "      [theme=dark] .colab-df-generate {\n",
              "        background-color: #3B4455;\n",
              "        fill: #D2E3FC;\n",
              "      }\n",
              "\n",
              "      [theme=dark] .colab-df-generate:hover {\n",
              "        background-color: #434B5C;\n",
              "        box-shadow: 0px 1px 3px 1px rgba(0, 0, 0, 0.15);\n",
              "        filter: drop-shadow(0px 1px 2px rgba(0, 0, 0, 0.3));\n",
              "        fill: #FFFFFF;\n",
              "      }\n",
              "    </style>\n",
              "    <button class=\"colab-df-generate\" onclick=\"generateWithVariable('null_rows_in_user_interactions')\"\n",
              "            title=\"Generate code using this dataframe.\"\n",
              "            style=\"display:none;\">\n",
              "\n",
              "  <svg xmlns=\"http://www.w3.org/2000/svg\" height=\"24px\"viewBox=\"0 0 24 24\"\n",
              "       width=\"24px\">\n",
              "    <path d=\"M7,19H8.4L18.45,9,17,7.55,7,17.6ZM5,21V16.75L18.45,3.32a2,2,0,0,1,2.83,0l1.4,1.43a1.91,1.91,0,0,1,.58,1.4,1.91,1.91,0,0,1-.58,1.4L9.25,21ZM18.45,9,17,7.55Zm-12,3A5.31,5.31,0,0,0,4.9,8.1,5.31,5.31,0,0,0,1,6.5,5.31,5.31,0,0,0,4.9,4.9,5.31,5.31,0,0,0,6.5,1,5.31,5.31,0,0,0,8.1,4.9,5.31,5.31,0,0,0,12,6.5,5.46,5.46,0,0,0,6.5,12Z\"/>\n",
              "  </svg>\n",
              "    </button>\n",
              "    <script>\n",
              "      (() => {\n",
              "      const buttonEl =\n",
              "        document.querySelector('#id_d6e060a2-9928-4ca8-8514-90841bdc28d2 button.colab-df-generate');\n",
              "      buttonEl.style.display =\n",
              "        google.colab.kernel.accessAllowed ? 'block' : 'none';\n",
              "\n",
              "      buttonEl.onclick = () => {\n",
              "        google.colab.notebook.generateWithVariable('null_rows_in_user_interactions');\n",
              "      }\n",
              "      })();\n",
              "    </script>\n",
              "  </div>\n",
              "\n",
              "    </div>\n",
              "  </div>\n"
            ],
            "application/vnd.google.colaboratory.intrinsic+json": {
              "type": "dataframe",
              "variable_name": "null_rows_in_user_interactions",
              "repr_error": "0"
            }
          },
          "metadata": {},
          "execution_count": 47
        }
      ]
    },
    {
      "cell_type": "code",
      "source": [
        "user_interactions['pratilipi_id'] = user_interactions['pratilipi_id'].astype(str)\n",
        "meta_data['pratilipi_id'] = meta_data['pratilipi_id'].astype(str)\n",
        "meta_data['author_id'] = meta_data['author_id'].astype(str)"
      ],
      "metadata": {
        "id": "8DFQ06DHX6BR"
      },
      "execution_count": 48,
      "outputs": []
    },
    {
      "cell_type": "code",
      "source": [
        "meta_data['categories'] = meta_data['category_name'].apply(lambda x: [x.strip()])"
      ],
      "metadata": {
        "id": "0y6cCPP4uglf"
      },
      "execution_count": 49,
      "outputs": []
    },
    {
      "cell_type": "code",
      "source": [
        "split_idx = int(len(user_interactions)*0.75)\n",
        "train_df = user_interactions.iloc[:split_idx]\n",
        "test_df = user_interactions.iloc[split_idx:]"
      ],
      "metadata": {
        "id": "DV26JqxoPq1Z"
      },
      "execution_count": 50,
      "outputs": []
    },
    {
      "cell_type": "code",
      "source": [
        "print(f\"Train Size:{len(train_df)}\")\n",
        "print(f\"Test Size:{len(test_df)}\")"
      ],
      "metadata": {
        "colab": {
          "base_uri": "https://localhost:8080/"
        },
        "id": "bOrgkmXlRwpc",
        "outputId": "010dc38d-93c0-44cf-d5eb-4f3bf1fed703"
      },
      "execution_count": 51,
      "outputs": [
        {
          "output_type": "stream",
          "name": "stdout",
          "text": [
            "Train Size:1875000\n",
            "Test Size:625000\n"
          ]
        }
      ]
    },
    {
      "cell_type": "code",
      "source": [
        "valid_pratilipis = meta_data['pratilipi_id'].unique()\n",
        "train_df = train_df[train_df['pratilipi_id'].isin(valid_pratilipis)]\n",
        "print(\"Train Size After Filtering:\", len(train_df))"
      ],
      "metadata": {
        "colab": {
          "base_uri": "https://localhost:8080/"
        },
        "id": "W0uxhe5rXnwk",
        "outputId": "02327373-68f3-4069-c64e-4fae543f1109"
      },
      "execution_count": 52,
      "outputs": [
        {
          "output_type": "stream",
          "name": "stdout",
          "text": [
            "Train Size After Filtering: 1129556\n"
          ]
        }
      ]
    },
    {
      "cell_type": "code",
      "source": [
        "\n",
        "all_categories = []\n",
        "for categories in meta_data['categories']:\n",
        "    all_categories.extend(categories)\n",
        "all_categories = list(set(all_categories))\n",
        "print(f\"Number of unique categories: {len(all_categories)}\")"
      ],
      "metadata": {
        "colab": {
          "base_uri": "https://localhost:8080/"
        },
        "id": "NRdeifq6kViH",
        "outputId": "739b2ca7-f393-460b-84e3-2bf4bac5a5a5"
      },
      "execution_count": 53,
      "outputs": [
        {
          "output_type": "stream",
          "name": "stdout",
          "text": [
            "Number of unique categories: 45\n"
          ]
        }
      ]
    },
    {
      "cell_type": "code",
      "source": [
        "# Create Dataset and fit with users, items, and item features\n",
        "dataset = Dataset() #initializes a new Dataset object. This object will hold the mappings for users, items, and features.\n",
        "\n",
        "# Use only training data to fit the dataset\n",
        "train_users = train_df['user_id'].unique()\n",
        "train_pratilipis = train_df['pratilipi_id'].unique()\n"
      ],
      "metadata": {
        "id": "efHmqeu9Y_gA"
      },
      "execution_count": 54,
      "outputs": []
    },
    {
      "cell_type": "code",
      "source": [
        "# This is the key fix - include item_features in the fit method\n",
        "dataset.fit(\n",
        "    users=train_users,\n",
        "    items=train_pratilipis,\n",
        "    item_features=all_categories\n",
        ")"
      ],
      "metadata": {
        "id": "YSA81oMEuvH1"
      },
      "execution_count": 55,
      "outputs": []
    },
    {
      "cell_type": "code",
      "source": [
        "train_interactions = train_df.groupby(['user_id', 'pratilipi_id']).max().reset_index()\n",
        "train_interactions['weight'] = train_interactions['read_percent']/100.0"
      ],
      "metadata": {
        "id": "3Wux64CkZs8y"
      },
      "execution_count": 56,
      "outputs": []
    },
    {
      "cell_type": "code",
      "source": [
        "# Build interactions matrix\n",
        "interactions, weights = dataset.build_interactions(\n",
        "    [(row['user_id'], row['pratilipi_id'], row['weight']) for _, row in train_interactions.iterrows()]\n",
        ")\n",
        "print(f\"Interactions matrix shape: {interactions.shape}\")"
      ],
      "metadata": {
        "colab": {
          "base_uri": "https://localhost:8080/"
        },
        "id": "Wd2pg8pFaR_p",
        "outputId": "37098548-152d-4c96-eac1-a5a2ef5c1ae7"
      },
      "execution_count": 57,
      "outputs": [
        {
          "output_type": "stream",
          "name": "stdout",
          "text": [
            "Interactions matrix shape: (183494, 124599)\n"
          ]
        }
      ]
    },
    {
      "cell_type": "code",
      "source": [
        "# Filter meta_data to include only pratilipi_id present in train_df\n",
        "meta_data_filter = meta_data[meta_data['pratilipi_id'].isin(train_df['pratilipi_id'])]\n",
        "print(\"Meta Data Size After Filtering:\", len(meta_data_filter))"
      ],
      "metadata": {
        "colab": {
          "base_uri": "https://localhost:8080/"
        },
        "id": "T-eqq9pvWs7O",
        "outputId": "0b92c030-07ba-4811-e680-6afdd389482f"
      },
      "execution_count": 58,
      "outputs": [
        {
          "output_type": "stream",
          "name": "stdout",
          "text": [
            "Meta Data Size After Filtering: 308108\n"
          ]
        }
      ]
    },
    {
      "cell_type": "code",
      "source": [
        "# Prepare item features list\n",
        "item_features_list = [(row['pratilipi_id'], row['categories']) for _, row in meta_data_filter.iterrows()]\n",
        "\n",
        "# Build item features - this should now work\n",
        "item_features = dataset.build_item_features(item_features_list)\n",
        "print(f\"Item features shape: {item_features.shape}\")"
      ],
      "metadata": {
        "colab": {
          "base_uri": "https://localhost:8080/"
        },
        "id": "yz9Va2fbbub2",
        "outputId": "89f8d28a-4c27-498a-c63c-70b7b4ee345a"
      },
      "execution_count": 59,
      "outputs": [
        {
          "output_type": "stream",
          "name": "stdout",
          "text": [
            "Item features shape: (124599, 124644)\n"
          ]
        }
      ]
    },
    {
      "cell_type": "code",
      "source": [
        "# Train LightFM model\n",
        "model = LightFM(loss='warp', random_state=42)\n",
        "model.fit(interactions, item_features=item_features, epochs=30, num_threads=4)\n",
        "\n",
        "print(\"Model trained successfully!\")"
      ],
      "metadata": {
        "colab": {
          "base_uri": "https://localhost:8080/"
        },
        "id": "Q_HTg-QgvCZa",
        "outputId": "73f538da-e3ea-4638-d471-0543346d7f4e"
      },
      "execution_count": 60,
      "outputs": [
        {
          "output_type": "stream",
          "name": "stdout",
          "text": [
            "Model trained successfully!\n"
          ]
        }
      ]
    },
    {
      "cell_type": "code",
      "source": [
        "def get_recommendations(model, user_id, item_features=None, train_interactions_df=None, n=5):\n",
        "    n_items = item_features.shape[0]\n",
        "\n",
        "    # Get the mappings from dataset\n",
        "    mappings = dataset.mapping()\n",
        "    user_id_map = mappings[0]  # The first element is the user mapping\n",
        "\n",
        "    # Handle cold start users\n",
        "    if user_id not in user_id_map:\n",
        "        # Cold start: Recommend based on item features alone (content-based recommendation)\n",
        "        scores = model.predict(0, np.arange(n_items), item_features=item_features)  # Predict using item features\n",
        "        top_items = np.argsort(-scores)[:n]  # Get top items based on features\n",
        "    else:\n",
        "        # Non-cold start: User has interactions in the training data\n",
        "        internal_user_id = user_id_map[user_id]\n",
        "\n",
        "        # Get scores for all items for this user\n",
        "        scores = model.predict(internal_user_id, np.arange(n_items), item_features=item_features)\n",
        "\n",
        "        # Sort by score and get top items\n",
        "        top_items = np.argsort(-scores)[:n]\n",
        "\n",
        "    # Get the item mapping from the correct position in the tuple\n",
        "    item_map = mappings[2]  # The third element is the item mapping\n",
        "    item_map_reverse = {v: k for k, v in item_map.items()}\n",
        "\n",
        "    # Get items that user has already interacted with (to avoid recommending the same items)\n",
        "    if train_interactions_df is not None:\n",
        "        seen_items = set(train_interactions_df[train_interactions_df['user_id'] == user_id]['pratilipi_id'].values)\n",
        "    else:\n",
        "        seen_items = set()\n",
        "\n",
        "    # Final list of top items, filtering out already seen items\n",
        "    top_items_filtered = []\n",
        "    for item_idx in top_items:\n",
        "        if len(top_items_filtered) >= n:\n",
        "            break\n",
        "        if item_idx in item_map_reverse:\n",
        "            item_id = item_map_reverse[item_idx]\n",
        "            if item_id not in seen_items:\n",
        "                top_items_filtered.append(item_id)\n",
        "\n",
        "    return top_items_filtered\n"
      ],
      "metadata": {
        "id": "U6swkPFIvCUW"
      },
      "execution_count": 61,
      "outputs": []
    },
    {
      "cell_type": "code",
      "source": [
        "\n",
        "# Take a random sample of test data for faster evaluation\n",
        "sample_size = min(20000, len(test_df))  # Adjust the sample size as needed\n",
        "test_df_sample = test_df.sample(n=sample_size, random_state=42)\n",
        "\n",
        "# Process the sampled test data\n",
        "test_interactions_sample = test_df_sample.groupby(['user_id', 'pratilipi_id']).max().reset_index()\n",
        "test_interactions_sample['weight'] = test_interactions_sample['read_percent'] / 100.0\n",
        "\n",
        "# Only include users and items that are in the training set\n",
        "test_interactions_sample = test_interactions_sample[\n",
        "    test_interactions_sample['user_id'].isin(train_interactions['user_id']) &\n",
        "    test_interactions_sample['pratilipi_id'].isin(train_interactions['pratilipi_id'])\n",
        "]\n",
        "\n",
        "# Build interaction matrix from the sample\n",
        "test_interactions_matrix_sample, _ = dataset.build_interactions(\n",
        "    [(row['user_id'], row['pratilipi_id'], row['weight'])\n",
        "     for _, row in test_interactions_sample.iterrows()]\n",
        ")\n",
        "\n",
        "print(f\"Evaluating on {len(test_interactions_sample)} test interactions\")\n",
        "from lightfm.evaluation import precision_at_k, auc_score, recall_at_k\n",
        "\n",
        "# Calculate metrics on the sample\n",
        "precision = precision_at_k(model, test_interactions_matrix_sample, item_features=item_features, k=5).mean()\n",
        "auc = auc_score(model, test_interactions_matrix_sample, item_features=item_features).mean()\n",
        "recall = recall_at_k(model, test_interactions_matrix_sample, item_features=item_features, k=5).mean()\n",
        "print(f\"Precision@5: {precision:.4f}\")\n",
        "print(f\"AUC: {auc:.4f}\")\n",
        "print(f\"Recall@5: {recall:.4f}\")\n"
      ],
      "metadata": {
        "colab": {
          "base_uri": "https://localhost:8080/"
        },
        "id": "kAfUAf603oXe",
        "outputId": "e83cf4d7-de8c-4bde-c254-0888eb49d044"
      },
      "execution_count": 62,
      "outputs": [
        {
          "output_type": "stream",
          "name": "stdout",
          "text": [
            "Evaluating on 9945 test interactions\n",
            "Precision@5: 0.0011\n",
            "AUC: 0.8250\n",
            "Recall@5: 0.0051\n"
          ]
        }
      ]
    },
    {
      "cell_type": "code",
      "source": [],
      "metadata": {
        "id": "MHSgzMNQnLwJ"
      },
      "execution_count": 62,
      "outputs": []
    }
  ]
}